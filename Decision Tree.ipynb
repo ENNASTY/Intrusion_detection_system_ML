{
 "cells": [
  {
   "cell_type": "markdown",
   "metadata": {},
   "source": [
    "## Import libraries"
   ]
  },
  {
   "cell_type": "code",
   "execution_count": 1,
   "metadata": {},
   "outputs": [],
   "source": [
    "import warnings\n",
    "warnings.filterwarnings(\"ignore\")"
   ]
  },
  {
   "cell_type": "code",
   "execution_count": 2,
   "metadata": {},
   "outputs": [],
   "source": [
    "import time\n",
    "from sklearn.tree import DecisionTreeClassifier\n",
    "import numpy as np\n",
    "import pandas as pd\n",
    "import seaborn as sns\n",
    "import matplotlib.pyplot as plt\n",
    "from sklearn.preprocessing import LabelEncoder #,Imputer \n",
    "from sklearn.model_selection import train_test_split\n",
    "from sklearn.utils import shuffle\n",
    "from sklearn.metrics import classification_report,confusion_matrix,accuracy_score,precision_recall_fscore_support\n",
    "from sklearn.metrics import classification_report,confusion_matrix,accuracy_score, recall_score, precision_score, f1_score "
   ]
  },
  {
   "cell_type": "code",
   "execution_count": 3,
   "metadata": {},
   "outputs": [],
   "source": [
    "#Read dataset\n",
    "df = pd.read_csv('datasetwithoutexploit.csv')"
   ]
  },
  {
   "cell_type": "code",
   "execution_count": 4,
   "metadata": {},
   "outputs": [
    {
     "data": {
      "text/plain": [
       "Attack_Category\n",
       "BENIGN        41002\n",
       "Web attack    14667\n",
       "DDOS           2506\n",
       "SCANNING       2500\n",
       "RECON          2498\n",
       "DOS            2497\n",
       "RANSOMWARE     2493\n",
       "BOT            2489\n",
       "BRUTEFORCE     2485\n",
       "BACKDOOR       2485\n",
       "MITM           2471\n",
       "THEFT          2431\n",
       "SHELLCODE      1427\n",
       "Name: count, dtype: int64"
      ]
     },
     "execution_count": 4,
     "metadata": {},
     "output_type": "execute_result"
    }
   ],
   "source": [
    "# Groupement des classes\n",
    "attack_group = {'Infilteration': 'Web attack', \n",
    "                'Fuzzers': 'Web attack',\n",
    "                'Generic': 'Web attack',\n",
    "                'injection': 'Web attack', \n",
    "                'Analysis': 'Web attack',\n",
    "                'xss': 'Web attack',\n",
    "                'Benign': 'BENIGN',\n",
    "                'backdoor': 'BACKDOOR', \n",
    "                'scanning': 'SCANNING',\n",
    "                'mitm': 'MITM', \n",
    "                'dos': 'DOS', \n",
    "                'ddos': 'DDOS', \n",
    "                'bruteforce': 'BRUTEFORCE', \n",
    "                'Theft': 'THEFT', \n",
    "                'Reconnaissance': 'RECON',\n",
    "                'Shellcode': 'SHELLCODE',\n",
    "                'ransomware': 'RANSOMWARE',\n",
    "                'Bot': 'BOT',\n",
    "                }\n",
    "# Creation d'une colomne Attack catégorie\n",
    "df['Attack_Category'] = df['Attack'].map(lambda x: attack_group[x])\n",
    "df['Attack_Category'].value_counts()"
   ]
  },
  {
   "cell_type": "code",
   "execution_count": 5,
   "metadata": {},
   "outputs": [
    {
     "data": {
      "text/plain": [
       "Label\n",
       "0    41002\n",
       "1    40949\n",
       "Name: count, dtype: int64"
      ]
     },
     "execution_count": 5,
     "metadata": {},
     "output_type": "execute_result"
    }
   ],
   "source": [
    "df.Label.value_counts()"
   ]
  },
  {
   "cell_type": "code",
   "execution_count": 6,
   "metadata": {},
   "outputs": [
    {
     "data": {
      "text/plain": [
       "Attack_Category\n",
       "BENIGN        41002\n",
       "Web attack    14667\n",
       "DDOS           2506\n",
       "SCANNING       2500\n",
       "RECON          2498\n",
       "DOS            2497\n",
       "RANSOMWARE     2493\n",
       "BOT            2489\n",
       "BRUTEFORCE     2485\n",
       "BACKDOOR       2485\n",
       "MITM           2471\n",
       "THEFT          2431\n",
       "SHELLCODE      1427\n",
       "Name: count, dtype: int64"
      ]
     },
     "execution_count": 6,
     "metadata": {},
     "output_type": "execute_result"
    }
   ],
   "source": [
    "df.Attack_Category.value_counts()"
   ]
  },
  {
   "cell_type": "code",
   "execution_count": 7,
   "metadata": {},
   "outputs": [
    {
     "data": {
      "text/plain": [
       "Attack\n",
       "Benign            41002\n",
       "ddos               2506\n",
       "scanning           2500\n",
       "Reconnaissance     2498\n",
       "dos                2497\n",
       "ransomware         2493\n",
       "Infilteration      2491\n",
       "Fuzzers            2490\n",
       "Bot                2489\n",
       "Generic            2487\n",
       "backdoor           2485\n",
       "bruteforce         2485\n",
       "mitm               2471\n",
       "xss                2457\n",
       "injection          2443\n",
       "Theft              2431\n",
       "Analysis           2299\n",
       "Shellcode          1427\n",
       "Name: count, dtype: int64"
      ]
     },
     "execution_count": 7,
     "metadata": {},
     "output_type": "execute_result"
    }
   ],
   "source": [
    "df.Attack.value_counts()"
   ]
  },
  {
   "cell_type": "code",
   "execution_count": 8,
   "metadata": {},
   "outputs": [],
   "source": [
    "cols = list(df)\n",
    "cols.insert(43, cols.pop(cols.index('Attack')))\n",
    "df = df.loc[:, cols]"
   ]
  },
  {
   "cell_type": "code",
   "execution_count": 9,
   "metadata": {},
   "outputs": [
    {
     "data": {
      "text/html": [
       "<div>\n",
       "<style scoped>\n",
       "    .dataframe tbody tr th:only-of-type {\n",
       "        vertical-align: middle;\n",
       "    }\n",
       "\n",
       "    .dataframe tbody tr th {\n",
       "        vertical-align: top;\n",
       "    }\n",
       "\n",
       "    .dataframe thead th {\n",
       "        text-align: right;\n",
       "    }\n",
       "</style>\n",
       "<table border=\"1\" class=\"dataframe\">\n",
       "  <thead>\n",
       "    <tr style=\"text-align: right;\">\n",
       "      <th></th>\n",
       "      <th>L4_SRC_PORT</th>\n",
       "      <th>L4_DST_PORT</th>\n",
       "      <th>PROTOCOL</th>\n",
       "      <th>L7_PROTO</th>\n",
       "      <th>IN_BYTES</th>\n",
       "      <th>IN_PKTS</th>\n",
       "      <th>OUT_BYTES</th>\n",
       "      <th>OUT_PKTS</th>\n",
       "      <th>TCP_FLAGS</th>\n",
       "      <th>CLIENT_TCP_FLAGS</th>\n",
       "      <th>...</th>\n",
       "      <th>TCP_WIN_MAX_OUT</th>\n",
       "      <th>ICMP_TYPE</th>\n",
       "      <th>ICMP_IPV4_TYPE</th>\n",
       "      <th>DNS_QUERY_ID</th>\n",
       "      <th>DNS_QUERY_TYPE</th>\n",
       "      <th>DNS_TTL_ANSWER</th>\n",
       "      <th>FTP_COMMAND_RET_CODE</th>\n",
       "      <th>Label</th>\n",
       "      <th>Attack_Category</th>\n",
       "      <th>Attack</th>\n",
       "    </tr>\n",
       "  </thead>\n",
       "  <tbody>\n",
       "    <tr>\n",
       "      <th>0</th>\n",
       "      <td>0.582666</td>\n",
       "      <td>0.006790</td>\n",
       "      <td>0.023529</td>\n",
       "      <td>0.172269</td>\n",
       "      <td>0.000048</td>\n",
       "      <td>0.000264</td>\n",
       "      <td>0.000002</td>\n",
       "      <td>0.000246</td>\n",
       "      <td>0.139013</td>\n",
       "      <td>0.121076</td>\n",
       "      <td>...</td>\n",
       "      <td>0.125002</td>\n",
       "      <td>0.0</td>\n",
       "      <td>0.0</td>\n",
       "      <td>0.0</td>\n",
       "      <td>0.0</td>\n",
       "      <td>0.0</td>\n",
       "      <td>0.0</td>\n",
       "      <td>1</td>\n",
       "      <td>RANSOMWARE</td>\n",
       "      <td>ransomware</td>\n",
       "    </tr>\n",
       "    <tr>\n",
       "      <th>1</th>\n",
       "      <td>0.583490</td>\n",
       "      <td>0.006790</td>\n",
       "      <td>0.023529</td>\n",
       "      <td>0.172269</td>\n",
       "      <td>0.000024</td>\n",
       "      <td>0.000122</td>\n",
       "      <td>0.000001</td>\n",
       "      <td>0.000123</td>\n",
       "      <td>0.139013</td>\n",
       "      <td>0.121076</td>\n",
       "      <td>...</td>\n",
       "      <td>0.125002</td>\n",
       "      <td>0.0</td>\n",
       "      <td>0.0</td>\n",
       "      <td>0.0</td>\n",
       "      <td>0.0</td>\n",
       "      <td>0.0</td>\n",
       "      <td>0.0</td>\n",
       "      <td>1</td>\n",
       "      <td>RANSOMWARE</td>\n",
       "      <td>ransomware</td>\n",
       "    </tr>\n",
       "    <tr>\n",
       "      <th>2</th>\n",
       "      <td>0.672023</td>\n",
       "      <td>0.006790</td>\n",
       "      <td>0.023529</td>\n",
       "      <td>0.172269</td>\n",
       "      <td>0.000024</td>\n",
       "      <td>0.000122</td>\n",
       "      <td>0.000001</td>\n",
       "      <td>0.000123</td>\n",
       "      <td>0.139013</td>\n",
       "      <td>0.121076</td>\n",
       "      <td>...</td>\n",
       "      <td>0.125002</td>\n",
       "      <td>0.0</td>\n",
       "      <td>0.0</td>\n",
       "      <td>0.0</td>\n",
       "      <td>0.0</td>\n",
       "      <td>0.0</td>\n",
       "      <td>0.0</td>\n",
       "      <td>1</td>\n",
       "      <td>RANSOMWARE</td>\n",
       "      <td>ransomware</td>\n",
       "    </tr>\n",
       "    <tr>\n",
       "      <th>3</th>\n",
       "      <td>0.523156</td>\n",
       "      <td>0.006790</td>\n",
       "      <td>0.023529</td>\n",
       "      <td>0.172269</td>\n",
       "      <td>0.000024</td>\n",
       "      <td>0.000122</td>\n",
       "      <td>0.000001</td>\n",
       "      <td>0.000123</td>\n",
       "      <td>0.139013</td>\n",
       "      <td>0.121076</td>\n",
       "      <td>...</td>\n",
       "      <td>0.125002</td>\n",
       "      <td>0.0</td>\n",
       "      <td>0.0</td>\n",
       "      <td>0.0</td>\n",
       "      <td>0.0</td>\n",
       "      <td>0.0</td>\n",
       "      <td>0.0</td>\n",
       "      <td>1</td>\n",
       "      <td>RANSOMWARE</td>\n",
       "      <td>ransomware</td>\n",
       "    </tr>\n",
       "    <tr>\n",
       "      <th>4</th>\n",
       "      <td>0.578912</td>\n",
       "      <td>0.006790</td>\n",
       "      <td>0.023529</td>\n",
       "      <td>0.172269</td>\n",
       "      <td>0.000024</td>\n",
       "      <td>0.000122</td>\n",
       "      <td>0.000001</td>\n",
       "      <td>0.000123</td>\n",
       "      <td>0.139013</td>\n",
       "      <td>0.121076</td>\n",
       "      <td>...</td>\n",
       "      <td>0.125002</td>\n",
       "      <td>0.0</td>\n",
       "      <td>0.0</td>\n",
       "      <td>0.0</td>\n",
       "      <td>0.0</td>\n",
       "      <td>0.0</td>\n",
       "      <td>0.0</td>\n",
       "      <td>1</td>\n",
       "      <td>RANSOMWARE</td>\n",
       "      <td>ransomware</td>\n",
       "    </tr>\n",
       "    <tr>\n",
       "      <th>...</th>\n",
       "      <td>...</td>\n",
       "      <td>...</td>\n",
       "      <td>...</td>\n",
       "      <td>...</td>\n",
       "      <td>...</td>\n",
       "      <td>...</td>\n",
       "      <td>...</td>\n",
       "      <td>...</td>\n",
       "      <td>...</td>\n",
       "      <td>...</td>\n",
       "      <td>...</td>\n",
       "      <td>...</td>\n",
       "      <td>...</td>\n",
       "      <td>...</td>\n",
       "      <td>...</td>\n",
       "      <td>...</td>\n",
       "      <td>...</td>\n",
       "      <td>...</td>\n",
       "      <td>...</td>\n",
       "      <td>...</td>\n",
       "      <td>...</td>\n",
       "    </tr>\n",
       "    <tr>\n",
       "      <th>81946</th>\n",
       "      <td>0.643442</td>\n",
       "      <td>0.001221</td>\n",
       "      <td>0.023529</td>\n",
       "      <td>0.028226</td>\n",
       "      <td>0.001525</td>\n",
       "      <td>0.000541</td>\n",
       "      <td>0.000018</td>\n",
       "      <td>0.000221</td>\n",
       "      <td>0.102804</td>\n",
       "      <td>0.030303</td>\n",
       "      <td>...</td>\n",
       "      <td>0.644208</td>\n",
       "      <td>0.0</td>\n",
       "      <td>0.0</td>\n",
       "      <td>0.0</td>\n",
       "      <td>0.0</td>\n",
       "      <td>0.0</td>\n",
       "      <td>0.0</td>\n",
       "      <td>1</td>\n",
       "      <td>RECON</td>\n",
       "      <td>Reconnaissance</td>\n",
       "    </tr>\n",
       "    <tr>\n",
       "      <th>81947</th>\n",
       "      <td>0.675822</td>\n",
       "      <td>0.001221</td>\n",
       "      <td>0.023529</td>\n",
       "      <td>0.028226</td>\n",
       "      <td>0.001525</td>\n",
       "      <td>0.000541</td>\n",
       "      <td>0.000018</td>\n",
       "      <td>0.000221</td>\n",
       "      <td>0.102804</td>\n",
       "      <td>0.030303</td>\n",
       "      <td>...</td>\n",
       "      <td>0.644208</td>\n",
       "      <td>0.0</td>\n",
       "      <td>0.0</td>\n",
       "      <td>0.0</td>\n",
       "      <td>0.0</td>\n",
       "      <td>0.0</td>\n",
       "      <td>0.0</td>\n",
       "      <td>1</td>\n",
       "      <td>RECON</td>\n",
       "      <td>Reconnaissance</td>\n",
       "    </tr>\n",
       "    <tr>\n",
       "      <th>81948</th>\n",
       "      <td>0.642741</td>\n",
       "      <td>0.001221</td>\n",
       "      <td>0.023529</td>\n",
       "      <td>0.028226</td>\n",
       "      <td>0.001525</td>\n",
       "      <td>0.000541</td>\n",
       "      <td>0.000018</td>\n",
       "      <td>0.000221</td>\n",
       "      <td>0.102804</td>\n",
       "      <td>0.030303</td>\n",
       "      <td>...</td>\n",
       "      <td>0.644208</td>\n",
       "      <td>0.0</td>\n",
       "      <td>0.0</td>\n",
       "      <td>0.0</td>\n",
       "      <td>0.0</td>\n",
       "      <td>0.0</td>\n",
       "      <td>0.0</td>\n",
       "      <td>1</td>\n",
       "      <td>RECON</td>\n",
       "      <td>Reconnaissance</td>\n",
       "    </tr>\n",
       "    <tr>\n",
       "      <th>81949</th>\n",
       "      <td>0.624186</td>\n",
       "      <td>0.001221</td>\n",
       "      <td>0.023529</td>\n",
       "      <td>0.028226</td>\n",
       "      <td>0.001525</td>\n",
       "      <td>0.000541</td>\n",
       "      <td>0.000018</td>\n",
       "      <td>0.000221</td>\n",
       "      <td>0.102804</td>\n",
       "      <td>0.030303</td>\n",
       "      <td>...</td>\n",
       "      <td>0.644208</td>\n",
       "      <td>0.0</td>\n",
       "      <td>0.0</td>\n",
       "      <td>0.0</td>\n",
       "      <td>0.0</td>\n",
       "      <td>0.0</td>\n",
       "      <td>0.0</td>\n",
       "      <td>1</td>\n",
       "      <td>RECON</td>\n",
       "      <td>Reconnaissance</td>\n",
       "    </tr>\n",
       "    <tr>\n",
       "      <th>81950</th>\n",
       "      <td>0.907301</td>\n",
       "      <td>0.768536</td>\n",
       "      <td>0.023529</td>\n",
       "      <td>0.000000</td>\n",
       "      <td>0.000193</td>\n",
       "      <td>0.000000</td>\n",
       "      <td>0.000016</td>\n",
       "      <td>0.000221</td>\n",
       "      <td>0.102804</td>\n",
       "      <td>0.010101</td>\n",
       "      <td>...</td>\n",
       "      <td>0.000000</td>\n",
       "      <td>0.0</td>\n",
       "      <td>0.0</td>\n",
       "      <td>0.0</td>\n",
       "      <td>0.0</td>\n",
       "      <td>0.0</td>\n",
       "      <td>0.0</td>\n",
       "      <td>1</td>\n",
       "      <td>RECON</td>\n",
       "      <td>Reconnaissance</td>\n",
       "    </tr>\n",
       "  </tbody>\n",
       "</table>\n",
       "<p>81951 rows × 44 columns</p>\n",
       "</div>"
      ],
      "text/plain": [
       "       L4_SRC_PORT  L4_DST_PORT  PROTOCOL  L7_PROTO  IN_BYTES   IN_PKTS  \\\n",
       "0         0.582666     0.006790  0.023529  0.172269  0.000048  0.000264   \n",
       "1         0.583490     0.006790  0.023529  0.172269  0.000024  0.000122   \n",
       "2         0.672023     0.006790  0.023529  0.172269  0.000024  0.000122   \n",
       "3         0.523156     0.006790  0.023529  0.172269  0.000024  0.000122   \n",
       "4         0.578912     0.006790  0.023529  0.172269  0.000024  0.000122   \n",
       "...            ...          ...       ...       ...       ...       ...   \n",
       "81946     0.643442     0.001221  0.023529  0.028226  0.001525  0.000541   \n",
       "81947     0.675822     0.001221  0.023529  0.028226  0.001525  0.000541   \n",
       "81948     0.642741     0.001221  0.023529  0.028226  0.001525  0.000541   \n",
       "81949     0.624186     0.001221  0.023529  0.028226  0.001525  0.000541   \n",
       "81950     0.907301     0.768536  0.023529  0.000000  0.000193  0.000000   \n",
       "\n",
       "       OUT_BYTES  OUT_PKTS  TCP_FLAGS  CLIENT_TCP_FLAGS  ...  TCP_WIN_MAX_OUT  \\\n",
       "0       0.000002  0.000246   0.139013          0.121076  ...         0.125002   \n",
       "1       0.000001  0.000123   0.139013          0.121076  ...         0.125002   \n",
       "2       0.000001  0.000123   0.139013          0.121076  ...         0.125002   \n",
       "3       0.000001  0.000123   0.139013          0.121076  ...         0.125002   \n",
       "4       0.000001  0.000123   0.139013          0.121076  ...         0.125002   \n",
       "...          ...       ...        ...               ...  ...              ...   \n",
       "81946   0.000018  0.000221   0.102804          0.030303  ...         0.644208   \n",
       "81947   0.000018  0.000221   0.102804          0.030303  ...         0.644208   \n",
       "81948   0.000018  0.000221   0.102804          0.030303  ...         0.644208   \n",
       "81949   0.000018  0.000221   0.102804          0.030303  ...         0.644208   \n",
       "81950   0.000016  0.000221   0.102804          0.010101  ...         0.000000   \n",
       "\n",
       "       ICMP_TYPE  ICMP_IPV4_TYPE  DNS_QUERY_ID  DNS_QUERY_TYPE  \\\n",
       "0            0.0             0.0           0.0             0.0   \n",
       "1            0.0             0.0           0.0             0.0   \n",
       "2            0.0             0.0           0.0             0.0   \n",
       "3            0.0             0.0           0.0             0.0   \n",
       "4            0.0             0.0           0.0             0.0   \n",
       "...          ...             ...           ...             ...   \n",
       "81946        0.0             0.0           0.0             0.0   \n",
       "81947        0.0             0.0           0.0             0.0   \n",
       "81948        0.0             0.0           0.0             0.0   \n",
       "81949        0.0             0.0           0.0             0.0   \n",
       "81950        0.0             0.0           0.0             0.0   \n",
       "\n",
       "       DNS_TTL_ANSWER  FTP_COMMAND_RET_CODE  Label  Attack_Category  \\\n",
       "0                 0.0                   0.0      1       RANSOMWARE   \n",
       "1                 0.0                   0.0      1       RANSOMWARE   \n",
       "2                 0.0                   0.0      1       RANSOMWARE   \n",
       "3                 0.0                   0.0      1       RANSOMWARE   \n",
       "4                 0.0                   0.0      1       RANSOMWARE   \n",
       "...               ...                   ...    ...              ...   \n",
       "81946             0.0                   0.0      1            RECON   \n",
       "81947             0.0                   0.0      1            RECON   \n",
       "81948             0.0                   0.0      1            RECON   \n",
       "81949             0.0                   0.0      1            RECON   \n",
       "81950             0.0                   0.0      1            RECON   \n",
       "\n",
       "               Attack  \n",
       "0          ransomware  \n",
       "1          ransomware  \n",
       "2          ransomware  \n",
       "3          ransomware  \n",
       "4          ransomware  \n",
       "...               ...  \n",
       "81946  Reconnaissance  \n",
       "81947  Reconnaissance  \n",
       "81948  Reconnaissance  \n",
       "81949  Reconnaissance  \n",
       "81950  Reconnaissance  \n",
       "\n",
       "[81951 rows x 44 columns]"
      ]
     },
     "execution_count": 9,
     "metadata": {},
     "output_type": "execute_result"
    }
   ],
   "source": [
    "df"
   ]
  },
  {
   "cell_type": "markdown",
   "metadata": {},
   "source": [
    "### Data sampling\n",
    "Due to the space limit of GitHub files, we sample a small-sized subset for model learning using random sampling"
   ]
  },
  {
   "cell_type": "markdown",
   "metadata": {},
   "source": [
    "### split train set and test set"
   ]
  },
  {
   "cell_type": "code",
   "execution_count": 10,
   "metadata": {},
   "outputs": [
    {
     "name": "stdout",
     "output_type": "stream",
     "text": [
      "Counter({0: 41002, 1: 40949})\n"
     ]
    }
   ],
   "source": [
    "#labelencoder = LabelEncoder()\n",
    "#df.iloc[:, -1] = labelencoder.fit_transform(df.iloc[:, -2])\n",
    "X = df.drop(['Label','Attack','Attack_Category'],axis=1).values \n",
    "y = df.iloc[:, -3].values.reshape(-1,1)\n",
    "y=np.ravel(y)\n",
    "from collections import Counter\n",
    "counter = Counter(y)\n",
    "print(counter)"
   ]
  },
  {
   "cell_type": "markdown",
   "metadata": {},
   "source": [
    "### Training DT"
   ]
  },
  {
   "cell_type": "code",
   "execution_count": 11,
   "metadata": {},
   "outputs": [],
   "source": [
    "X_train, X_test, y_train, y_test = train_test_split(X, y, test_size=0.2 )"
   ]
  },
  {
   "cell_type": "code",
   "execution_count": 12,
   "metadata": {},
   "outputs": [
    {
     "name": "stdout",
     "output_type": "stream",
     "text": [
      "EPOCH (1/20) - Score train: 1.0\n",
      "EPOCH (2/20) - Score train: 1.0\n",
      "EPOCH (3/20) - Score train: 1.0\n",
      "EPOCH (4/20) - Score train: 1.0\n",
      "EPOCH (5/20) - Score train: 1.0\n",
      "EPOCH (6/20) - Score train: 1.0\n",
      "EPOCH (7/20) - Score train: 1.0\n",
      "EPOCH (8/20) - Score train: 1.0\n",
      "EPOCH (9/20) - Score train: 1.0\n",
      "EPOCH (10/20) - Score train: 1.0\n",
      "EPOCH (11/20) - Score train: 1.0\n",
      "EPOCH (12/20) - Score train: 1.0\n",
      "EPOCH (13/20) - Score train: 1.0\n",
      "EPOCH (14/20) - Score train: 1.0\n",
      "EPOCH (15/20) - Score train: 1.0\n",
      "EPOCH (16/20) - Score train: 1.0\n",
      "EPOCH (17/20) - Score train: 1.0\n",
      "EPOCH (18/20) - Score train: 1.0\n",
      "EPOCH (19/20) - Score train: 1.0\n",
      "EPOCH (20/20) - Score train: 1.0\n"
     ]
    }
   ],
   "source": [
    "\n",
    "import pandas as pd\n",
    "val_score=[]\n",
    "val_score_t=[]\n",
    "model =  DecisionTreeClassifier() \n",
    "\n",
    "data_train = pd.DataFrame(X_train)\n",
    "data_train[\"label\"]=  y_train\n",
    "epochs = 20\n",
    "start = time.time()\n",
    "for i in range(epochs):\n",
    "    shuffle(data_train)\n",
    "    X_train=data_train.iloc[:,:41] \n",
    "    y_train=data_train.iloc[:,41]\n",
    "    for batch in range(1,20):\n",
    "        model.fit(X_train, y_train)\n",
    "        score1=model.score(X_train, y_train)\n",
    "        val_score.append(score1)\n",
    "        \n",
    "    score=np.average(val_score)\n",
    "    print (\"EPOCH (\" + str(i+1) + \"/\" + str(epochs) + \") - Score train: \"+str (score) )\n",
    "    val_score_t.append(score)\n",
    "\n",
    "end = time.time()\n",
    "training_time = end  - start"
   ]
  },
  {
   "cell_type": "code",
   "execution_count": 13,
   "metadata": {},
   "outputs": [
    {
     "data": {
      "text/plain": [
       "Text(0.5, 0, 'nbr iteration d entrainement')"
      ]
     },
     "execution_count": 13,
     "metadata": {},
     "output_type": "execute_result"
    },
    {
     "data": {
      "image/png": "[encoded data removed]",
      "text/plain": [
       "<Figure size 640x480 with 1 Axes>"
      ]
     },
     "metadata": {},
     "output_type": "display_data"
    }
   ],
   "source": [
    "plt.plot(val_score_t)\n",
    "plt.title('Validation')\n",
    "plt.ylabel('accuracy')\n",
    "plt.xlabel('nbr iteration d entrainement')"
   ]
  },
  {
   "cell_type": "code",
   "execution_count": 14,
   "metadata": {},
   "outputs": [
    {
     "name": "stdout",
     "output_type": "stream",
     "text": [
      " Score test: 0.9995119272771643\n"
     ]
    }
   ],
   "source": [
    "start = time.time()\n",
    "y_predict = model.predict(X_test)\n",
    "score_test=model.score(X_test, y_test)\n",
    "print (\" Score test: \"+str (score_test) )\n",
    "end = time.time()\n",
    "predict_time = end  - start"
   ]
  },
  {
   "cell_type": "markdown",
   "metadata": {},
   "source": [
    "###  Evaluation DT"
   ]
  },
  {
   "cell_type": "code",
   "execution_count": 15,
   "metadata": {},
   "outputs": [
    {
     "name": "stdout",
     "output_type": "stream",
     "text": [
      "temps entrainement: 416.7665295600891\n",
      "temps prediction: 0.023996829986572266\n",
      "Exactitude de DT: 0.9995119272771643\n",
      "Précision de DT: 0.9995119272771643\n",
      "Taux de détection de DT: 0.9995119272771643\n",
      "F1-score de DT: 0.9995119272771643\n",
      "ERROR SCORE : 0.00048807272283568626\n"
     ]
    }
   ],
   "source": [
    "precision,recall,fscore,none= precision_recall_fscore_support(y_test, y_predict, average='weighted') \n",
    "print('temps entrainement: '+ str(training_time))\n",
    "print('temps prediction: '+ str(predict_time))\n",
    "print(\"Exactitude de DT: {}\".format(accuracy_score(y_test,y_predict)))\n",
    "print('Précision de DT: '+(str(precision)))\n",
    "print('Taux de détection de DT: '+(str(recall)))\n",
    "print('F1-score de DT: '+(str(fscore)))\n",
    "print(\"ERROR SCORE : {}\".format(1-accuracy_score(y_test,y_predict)))"
   ]
  },
  {
   "cell_type": "code",
   "execution_count": 16,
   "metadata": {},
   "outputs": [
    {
     "data": {
      "image/png": "[encoded data removed]",
      "text/plain": [
       "<Figure size 500x500 with 2 Axes>"
      ]
     },
     "metadata": {},
     "output_type": "display_data"
    }
   ],
   "source": [
    "cm=confusion_matrix(y_test,y_predict)\n",
    "f,ax=plt.subplots(figsize=(5,5))\n",
    "sns.heatmap(cm,annot=True,linewidth=0.5,linecolor=\"red\",fmt=\".0f\",ax=ax)\n",
    "plt.xlabel(\"y_pred\")\n",
    "plt.ylabel(\"y_test\")\n",
    "plt.show()"
   ]
  },
  {
   "cell_type": "code",
   "execution_count": null,
   "metadata": {},
   "outputs": [],
   "source": []
  }
 ],
 "metadata": {
  "anaconda-cloud": {},
  "kernelspec": {
   "display_name": "Python 3",
   "language": "python",
   "name": "python3"
  },
  "language_info": {
   "codemirror_mode": {
    "name": "ipython",
    "version": 3
   },
   "file_extension": ".py",
   "mimetype": "text/x-python",
   "name": "python",
   "nbconvert_exporter": "python",
   "pygments_lexer": "ipython3",
   "version": "3.12.0"
  },
  "toc": {
   "base_numbering": 1,
   "nav_menu": {},
   "number_sections": true,
   "sideBar": true,
   "skip_h1_title": false,
   "title_cell": "Table of Contents",
   "title_sidebar": "Contents",
   "toc_cell": false,
   "toc_position": {
    "height": "calc(100% - 180px)",
    "left": "10px",
    "top": "150px",
    "width": "328px"
   },
   "toc_section_display": true,
   "toc_window_display": true
  }
 },
 "nbformat": 4,
 "nbformat_minor": 2
}
